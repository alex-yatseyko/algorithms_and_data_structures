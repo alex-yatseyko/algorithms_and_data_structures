{
 "cells": [
  {
   "cell_type": "markdown",
   "metadata": {},
   "source": [
    "# Practice Interview\n",
    "\n",
    "## Objective\n",
    "\n",
    "_*The partner assignment aims to provide participants with the opportunity to practice coding in an interview context. You will analyze your partner's Assignment 1. Moreover, code reviews are common practice in a software development team. This assignment should give you a taste of the code review process.*_\n",
    "\n",
    "## Group Size\n",
    "\n",
    "Each group should have 2 people. You will be assigned a partner\n",
    "\n",
    "## Part 1:\n",
    "\n",
    "You and your partner must share each other's Assignment 1 submission."
   ]
  },
  {
   "cell_type": "markdown",
   "metadata": {},
   "source": [
    "\n",
    "## Part 2:\n",
    "\n",
    "Create a Jupyter Notebook, create 6 of the following headings, and complete the following for your partner's assignment 1:\n",
    "\n",
    "-   Paraphrase the problem in your own words.\n"
   ]
  },
  {
   "cell_type": "code",
   "execution_count": 1,
   "metadata": {},
   "outputs": [],
   "source": [
    "# The problem is to create is_sumettric function that will return True if there is the same value in binary tree on the left and right side from the root\n",
    "# If there is duplicate value the function should return the closest value to duplicate. It must be one number.\n",
    "# If there's no such value, the function should return -1"
   ]
  },
  {
   "cell_type": "markdown",
   "metadata": {},
   "source": [
    "\n",
    "-   Create 1 new example that demonstrates you understand the problem. Trace/walkthrough 1 example that your partner made and explain it.\n"
   ]
  },
  {
   "cell_type": "code",
   "execution_count": 2,
   "metadata": {},
   "outputs": [],
   "source": [
    "# [4, 5, 6, 7, 7, 8, 9, 10, 11, 12, 12] => 7\n",
    "# [1, 2, 3] => -1\n",
    "# [1, 2, 2, 3, 4, 4, 3] => 2\n",
    "# [1, 2, 2, 3, 4, 4, 3, 5, 6, 7, 7, 6, 5] => 2\n",
    "# [1, 2, 2, 3, 4, 4, 3, 5, 6, 7, 7, 6, 5, 8, 9, 9, 8] => 2"
   ]
  },
  {
   "cell_type": "markdown",
   "metadata": {},
   "source": [
    "\n",
    "-   Copy the solution your partner wrote. \n"
   ]
  },
  {
   "cell_type": "code",
   "execution_count": 3,
   "metadata": {},
   "outputs": [],
   "source": [
    "# Definition for a binary tree node.\n",
    "class TreeNode(object):\n",
    "    def __init__(self, val=0, left=None, right=None):\n",
    "        self.val = val\n",
    "        self.left = left\n",
    "        self.right = right\n",
    "\n",
    "def enqueue(l, v): # O(1) - add to end of list\n",
    "    l.append(v)\n",
    "\n",
    "def dequeue(l): # O(n) - remove from front of list\n",
    "    return l.pop(0)\n",
    "\n",
    "def is_duplicate(root):\n",
    "\n",
    "    if not root:  # Base case: if there's no root, return -1 and end function\n",
    "        return -1\n",
    "    \n",
    "    queue = [root]  # Initialize queue with root node\n",
    "    seen = set()  # Set to keep track of node values we've seen\n",
    "\n",
    "    while queue:    # loop while queue has values\n",
    "        node = dequeue(queue)  # Dequeue a node\n",
    "        \n",
    "        if node.val in seen:  # Check if the node's value has been seen before\n",
    "            return node.val  # Return the duplicate value if found\n",
    "        seen.add(node.val) # Mark the node's value as seen\n",
    "        \n",
    "        # Traverse left and right child nodes\n",
    "        if node.left:\n",
    "            enqueue(queue, node.left)\n",
    "        if node.right:\n",
    "            enqueue(queue, node.right)\n",
    "    \n",
    "    return -1  # Return -1 if no duplicate is found"
   ]
  },
  {
   "cell_type": "markdown",
   "metadata": {},
   "source": [
    "\n",
    "-   Explain why their solution works in your own words.\n"
   ]
  },
  {
   "cell_type": "code",
   "execution_count": 7,
   "metadata": {},
   "outputs": [
    {
     "name": "stdout",
     "output_type": "stream",
     "text": [
      "7\n"
     ]
    }
   ],
   "source": [
    "# Testing the solution [4, 5, 6, 7, 7, 8, 9, 10, 11, 12, 12]\n",
    "test = TreeNode(4)\n",
    "test.left = TreeNode(5)\n",
    "test.right = TreeNode(6)\n",
    "test.left.left = TreeNode(7)\n",
    "test.left.right = TreeNode(7)\n",
    "test.right.left = TreeNode(8)\n",
    "test.right.right = TreeNode(9)\n",
    "test.left.left.left = TreeNode(10)\n",
    "test.left.left.right = TreeNode(11)\n",
    "test.right.right.left = TreeNode(12)\n",
    "test.right.right.right = TreeNode(12)\n",
    "\n",
    "print(is_duplicate(test)) # Expected output: 7\n",
    "\n",
    "# The solution works because we traverse the tree and dequeue a node after checking if its values was seen before. To record only unique values seen = Set() was used. \n",
    "# If the value was seen before, the function returns the value. If no duplicate is found, the function returns -1. "
   ]
  },
  {
   "cell_type": "markdown",
   "metadata": {},
   "source": [
    "\n",
    "-   Explain the problem’s time and space complexity in your own words.\n"
   ]
  },
  {
   "cell_type": "code",
   "execution_count": null,
   "metadata": {},
   "outputs": [],
   "source": [
    "# As for me the time complexity of this solution is O(n) because we need to traverse all nodes in the tree to find a duplicate value. The space complexity is also O(n) because we use a queue to store nodes."
   ]
  },
  {
   "cell_type": "markdown",
   "metadata": {},
   "source": [
    "\n",
    "-   Critique your partner's solution, including explanation, and if there is anything that should be adjusted.\n"
   ]
  },
  {
   "cell_type": "code",
   "execution_count": null,
   "metadata": {},
   "outputs": [],
   "source": [
    "# I think there is possibility to use recusion approach to solve this problem.\n",
    "# In that case we can also create seen Set to store values that we've seen before in the beginning of the function.\n",
    "# Then we need to check is it's a node and return -1 and check if the value is in seen Set.\n",
    "# If the value is not in seen, we can add it to seen Set and call recurse function for left and right child nodes.\n",
    "\n",
    "# But I'm not sure if it will be better because it looks for me that it will be the same in terms of time and space complexity."
   ]
  },
  {
   "cell_type": "markdown",
   "metadata": {},
   "source": [
    "\n",
    "## Part 3:\n",
    "\n",
    "Please write a 200 word reflection documenting your process from assignment 1, and your presentation and review experience with your partner at the bottom of the Jupyter Notebook under a new heading \"Reflection.\" Again, export this Notebook as pdf.\n"
   ]
  },
  {
   "cell_type": "markdown",
   "metadata": {},
   "source": [
    "### Reflection"
   ]
  },
  {
   "cell_type": "code",
   "execution_count": null,
   "metadata": {},
   "outputs": [],
   "source": [
    "# Assignment 1 was very interesting for me because I like to solve coding problems. Not always, but sometimes I really enjoy it.\n",
    "# My task was very easy for me. I think I have to do also tasks 1 and 2 because I'm not professional in data structures\n",
    "# According to team work that's also really good. It's nice to check how other students solved the problem.\n",
    "# I'm submitting this assignment quite late because I was sick, but it's still good practice and we need to practice our coding skills to get better code in ML projects."
   ]
  },
  {
   "cell_type": "markdown",
   "metadata": {},
   "source": [
    "\n",
    "## Evaluation Criteria\n",
    "\n",
    "We are looking for the similar points as Assignment 1\n",
    "\n",
    "-   Problem is accurately stated\n",
    "\n",
    "-   New example is correct and easily understandable\n",
    "\n",
    "-   Correctness, time, and space complexity of the coding solution\n",
    "\n",
    "-   Clarity in explaining why the solution works, its time and space complexity\n",
    "\n",
    "-   Quality of critique of your partner's assignment, if necessary\n"
   ]
  },
  {
   "cell_type": "markdown",
   "metadata": {},
   "source": [
    "## Submission Information\n",
    "\n",
    "🚨 **Please review our [Assignment Submission Guide](https://github.com/UofT-DSI/onboarding/blob/main/onboarding_documents/submissions.md)** 🚨 for detailed instructions on how to format, branch, and submit your work. Following these guidelines is crucial for your submissions to be evaluated correctly.\n",
    "\n",
    "### Submission Parameters:\n",
    "* Submission Due Date: `HH:MM AM/PM - DD/MM/YYYY`\n",
    "* The branch name for your repo should be: `assignment-2`\n",
    "* What to submit for this assignment:\n",
    "    * This Jupyter Notebook (assignment_2.ipynb) should be populated and should be the only change in your pull request.\n",
    "* What the pull request link should look like for this assignment: `https://github.com/<your_github_username>/algorithms_and_data_structures/pull/<pr_id>`\n",
    "    * Open a private window in your browser. Copy and paste the link to your pull request into the address bar. Make sure you can see your pull request properly. This helps the technical facilitator and learning support staff review your submission easily.\n",
    "\n",
    "Checklist:\n",
    "- [ ] Created a branch with the correct naming convention.\n",
    "- [ ] Ensured that the repository is public.\n",
    "- [ ] Reviewed the PR description guidelines and adhered to them.\n",
    "- [ ] Verify that the link is accessible in a private browser window.\n",
    "\n",
    "If you encounter any difficulties or have questions, please don't hesitate to reach out to our team via our Slack at `#cohort-3-help`. Our Technical Facilitators and Learning Support staff are here to help you navigate any challenges.\n"
   ]
  }
 ],
 "metadata": {
  "kernelspec": {
   "display_name": "dsi_participant",
   "language": "python",
   "name": "python3"
  },
  "language_info": {
   "codemirror_mode": {
    "name": "ipython",
    "version": 3
   },
   "file_extension": ".py",
   "mimetype": "text/x-python",
   "name": "python",
   "nbconvert_exporter": "python",
   "pygments_lexer": "ipython3",
   "version": "3.9.18"
  }
 },
 "nbformat": 4,
 "nbformat_minor": 2
}
